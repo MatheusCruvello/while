{
  "nbformat": 4,
  "nbformat_minor": 0,
  "metadata": {
    "colab": {
      "provenance": []
    },
    "kernelspec": {
      "name": "python3",
      "display_name": "Python 3"
    },
    "language_info": {
      "name": "python"
    }
  },
  "cells": [
    {
      "cell_type": "code",
      "execution_count": null,
      "metadata": {
        "id": "vOFGf_e4ijod"
      },
      "outputs": [],
      "source": [
        "nota = float(input(\"Digite uma nota entre 0 e 10: \"))\n",
        "while nota > 10 or nota < 0:\n",
        "  nota = float(input(\"Digite um valor valido: \"))\n",
        "print(\"Sucesso\")"
      ]
    },
    {
      "cell_type": "code",
      "source": [
        "numero = int(input(\"Por Favor, digite um numero: \"))\n",
        "\n",
        "contador = 1\n",
        "\n",
        "while contador <= 10:\n",
        "  resultado = numero * contador\n",
        "  print(f\"{numero} X {contador} = {resultado}\")\n",
        "  contador += 1"
      ],
      "metadata": {
        "id": "qzKOZy7Iiqc3"
      },
      "execution_count": null,
      "outputs": []
    },
    {
      "cell_type": "code",
      "source": [
        "usuario= 0\n",
        "senha= 0\n",
        "\n",
        "usuario = input(\"Digite seu usuario: \")\n",
        "senha = input(\"Digite sua senha: \")\n",
        "while senha == usuario:\n",
        "  print(\"Ops algo deu errado!!!\")\n",
        "  usuario = input(\"Digite seu usuario: \")\n",
        "  senha = input(\"Digite sua senha: \")"
      ],
      "metadata": {
        "id": "LQxiJuGwitTW"
      },
      "execution_count": null,
      "outputs": []
    },
    {
      "cell_type": "code",
      "source": [
        "numero = 1\n",
        "\n",
        "while numero <= 10:\n",
        "  print(numero)\n",
        "  numero +=1"
      ],
      "metadata": {
        "id": "ukXHYAA8i0en"
      },
      "execution_count": null,
      "outputs": []
    },
    {
      "cell_type": "code",
      "source": [
        "numero = 2\n",
        "\n",
        "while numero <=20:\n",
        "  print(numero)\n",
        "  numero +=2"
      ],
      "metadata": {
        "id": "TbOUbzdajFlO"
      },
      "execution_count": null,
      "outputs": []
    },
    {
      "cell_type": "code",
      "source": [
        "x = int(input(\"Digite um numero: \"))\n",
        "contador= 1\n",
        "while contador <= x:\n",
        "  print(contador)\n",
        "  contador +=1\n",
        ""
      ],
      "metadata": {
        "id": "uI3VGB98jH_X"
      },
      "execution_count": null,
      "outputs": []
    },
    {
      "cell_type": "code",
      "source": [
        "m = int(input(\"Digite um numero: \"))\n",
        "contador= 2\n",
        "while contador <= m:\n",
        "  print(contador)\n",
        "  contador +=2"
      ],
      "metadata": {
        "id": "RDkHszGyjLhV"
      },
      "execution_count": null,
      "outputs": []
    },
    {
      "cell_type": "code",
      "source": [
        "senha= 1234\n",
        "xbox= int(input(\"Digite sua senha: \"))\n",
        "\n",
        "while senha != xbox:\n",
        "   print(\"Senha incorreta\")\n",
        "   xbox= int(input(\"Digite sua senha: \"))\n",
        "   print(\"Senha correta\")"
      ],
      "metadata": {
        "id": "cBXT8jZ5jO_U"
      },
      "execution_count": null,
      "outputs": []
    },
    {
      "cell_type": "code",
      "source": [
        "soma = 0\n",
        "contador = 0\n",
        "\n",
        "numero= int(input(\"Digite um numero: \"))\n",
        "while contador != numero:\n",
        " valor = int(input(\"Digite o outro valor: \"))\n",
        " soma += valor\n",
        " contador += 1\n",
        " media = soma / numero\n",
        "\n",
        "print(f\"O valor media é {media}\")"
      ],
      "metadata": {
        "id": "KmzNpyumjZO_"
      },
      "execution_count": null,
      "outputs": []
    },
    {
      "cell_type": "code",
      "source": [
        "soma= 0\n",
        "\n",
        "numero= int(input(\"Digite numero: \"))\n",
        "while numero != 0:\n",
        " soma += numero\n",
        " numero= int(input(\"Digite numero: \"))\n",
        "\n",
        "print(f\"O maior valor é {soma}\")\n",
        ""
      ],
      "metadata": {
        "id": "7gAvk8bKlR9k"
      },
      "execution_count": null,
      "outputs": []
    },
    {
      "cell_type": "code",
      "source": [
        "maiornumero= 0\n",
        "\n",
        "numero= int(input(\"Digite um numero: \"))\n",
        "while numero >= 0:\n",
        "  numero= int(input(\"Digite um numero: \"))\n",
        "  if numero >= maiornumero:\n",
        "     maiornumero = numero\n",
        "\n",
        "print(f\"\")\n",
        "\n",
        "\n"
      ],
      "metadata": {
        "id": "zeFX0CnZoCuF"
      },
      "execution_count": null,
      "outputs": []
    }
  ]
}