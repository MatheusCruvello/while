{
  "nbformat": 4,
  "nbformat_minor": 0,
  "metadata": {
    "colab": {
      "provenance": []
    },
    "kernelspec": {
      "name": "python3",
      "display_name": "Python 3"
    },
    "language_info": {
      "name": "python"
    }
  },
  "cells": [
    {
      "cell_type": "code",
      "source": [
        "nota = float(input(\"Digite uma nota entre 0 e 10: \"))\n",
        "while nota > 10 or nota < 0:\n",
        "  nota = float(input(\"Digite um valor valido: \"))\n",
        "print(\"Sucesso\")"
      ],
      "metadata": {
        "colab": {
          "base_uri": "https://localhost:8080/"
        },
        "id": "B3xKP-g8O-wE",
        "outputId": "fd151101-f54c-4de1-aad8-072b975aa089"
      },
      "execution_count": 1,
      "outputs": [
        {
          "output_type": "stream",
          "name": "stdout",
          "text": [
            "Digite uma nota entre 0 e 10: 10\n",
            "Sucesso\n"
          ]
        }
      ]
    },
    {
      "cell_type": "code",
      "source": [
        "numero = int(input(\"Por Favor, digite um numero: \"))\n",
        "\n",
        "contador = 1\n",
        "\n",
        "while contador <= 10:\n",
        "  resultado = numero * contador\n",
        "  print(f\"{numero} X {contador} = {resultado}\")\n",
        "  contador += 1\n",
        ""
      ],
      "metadata": {
        "colab": {
          "base_uri": "https://localhost:8080/"
        },
        "id": "bq6c8jDQPBNU",
        "outputId": "1813085e-4e3c-4bdc-abd2-303112c1209a"
      },
      "execution_count": 2,
      "outputs": [
        {
          "output_type": "stream",
          "name": "stdout",
          "text": [
            "Por Favor, digite um numero: 7\n",
            "7 X 1 = 7\n",
            "7 X 2 = 14\n",
            "7 X 3 = 21\n",
            "7 X 4 = 28\n",
            "7 X 5 = 35\n",
            "7 X 6 = 42\n",
            "7 X 7 = 49\n",
            "7 X 8 = 56\n",
            "7 X 9 = 63\n",
            "7 X 10 = 70\n"
          ]
        }
      ]
    },
    {
      "cell_type": "code",
      "source": [
        "usuario= 0\n",
        "senha= 0\n",
        "\n",
        "usuario = input(\"Digite seu usuario: \")\n",
        "senha = input(\"Digite sua senha: \")\n",
        "while senha == usuario:\n",
        "  print(\"Ops algo deu errado!!!\")\n",
        "  usuario = input(\"Digite seu usuario: \")\n",
        "  senha = input(\"Digite sua senha: \")\n",
        ""
      ],
      "metadata": {
        "colab": {
          "base_uri": "https://localhost:8080/"
        },
        "id": "89Li3UEYPDW-",
        "outputId": "d1172bd8-25e9-4f0d-e2dd-de4897e330d9"
      },
      "execution_count": 3,
      "outputs": [
        {
          "name": "stdout",
          "output_type": "stream",
          "text": [
            "Digite seu usuario: matheus\n",
            "Digite sua senha: matheus\n",
            "Ops algo deu errado!!!\n",
            "Digite seu usuario: matheus\n",
            "Digite sua senha: ferreira\n"
          ]
        }
      ]
    },
    {
      "cell_type": "code",
      "source": [
        "numero = 1\n",
        "\n",
        "while numero <= 10:\n",
        "  print(numero)\n",
        "  numero +=1\n",
        ""
      ],
      "metadata": {
        "colab": {
          "base_uri": "https://localhost:8080/"
        },
        "id": "jAw0U2V3PFSR",
        "outputId": "17af9e48-898f-4f2e-a8df-32630d9fd692"
      },
      "execution_count": 4,
      "outputs": [
        {
          "output_type": "stream",
          "name": "stdout",
          "text": [
            "1\n",
            "2\n",
            "3\n",
            "4\n",
            "5\n",
            "6\n",
            "7\n",
            "8\n",
            "9\n",
            "10\n"
          ]
        }
      ]
    },
    {
      "cell_type": "code",
      "source": [
        "numero = 2\n",
        "\n",
        "while numero <=20:\n",
        "  print(numero)\n",
        "  numero +=2\n",
        ""
      ],
      "metadata": {
        "colab": {
          "base_uri": "https://localhost:8080/"
        },
        "id": "RkvJUnZJPHcV",
        "outputId": "c1cf86f5-4541-4741-f5dc-c8a44ef298d6"
      },
      "execution_count": 5,
      "outputs": [
        {
          "output_type": "stream",
          "name": "stdout",
          "text": [
            "2\n",
            "4\n",
            "6\n",
            "8\n",
            "10\n",
            "12\n",
            "14\n",
            "16\n",
            "18\n",
            "20\n"
          ]
        }
      ]
    },
    {
      "cell_type": "code",
      "source": [
        "x = int(input(\"Digite um numero: \"))\n",
        "contador= 1\n",
        "while contador <= x:\n",
        "  print(contador)\n",
        "  contador +=1"
      ],
      "metadata": {
        "colab": {
          "base_uri": "https://localhost:8080/"
        },
        "id": "fPqU5LlKPKp0",
        "outputId": "b9af5ffb-f32b-4045-9175-805868f08370"
      },
      "execution_count": 6,
      "outputs": [
        {
          "output_type": "stream",
          "name": "stdout",
          "text": [
            "Digite um numero: 5\n",
            "1\n",
            "2\n",
            "3\n",
            "4\n",
            "5\n"
          ]
        }
      ]
    },
    {
      "cell_type": "code",
      "source": [
        "m = int(input(\"Digite um numero: \"))\n",
        "contador= 2\n",
        "while contador <= m:\n",
        "  print(contador)\n",
        "  contador +=2"
      ],
      "metadata": {
        "colab": {
          "base_uri": "https://localhost:8080/"
        },
        "id": "d0wmJxQdPMnn",
        "outputId": "6fb80a01-05e2-47e6-a014-407aa48a8487"
      },
      "execution_count": 7,
      "outputs": [
        {
          "output_type": "stream",
          "name": "stdout",
          "text": [
            "Digite um numero: 7\n",
            "2\n",
            "4\n",
            "6\n"
          ]
        }
      ]
    },
    {
      "cell_type": "code",
      "source": [
        "senha= 1234\n",
        "xbox= int(input(\"Digite sua senha: \"))\n",
        "\n",
        "while senha != xbox:\n",
        "   print(\"Senha incorreta\")\n",
        "   xbox= int(input(\"Digite sua senha: \"))\n",
        "   print(\"Senha correta\")"
      ],
      "metadata": {
        "colab": {
          "base_uri": "https://localhost:8080/"
        },
        "id": "5V5wVMXRPNNO",
        "outputId": "7980e320-f006-4c16-dd71-49372994f665"
      },
      "execution_count": 9,
      "outputs": [
        {
          "output_type": "stream",
          "name": "stdout",
          "text": [
            "Digite sua senha: 12345\n",
            "Senha incorreta\n",
            "Digite sua senha: 1234\n",
            "Senha correta\n"
          ]
        }
      ]
    },
    {
      "cell_type": "code",
      "source": [
        "soma = 0\n",
        "contador = 0\n",
        "\n",
        "numero= int(input(\"Digite um numero: \"))\n",
        "while contador != numero:\n",
        " valor = int(input(\"Digite o outro valor: \"))\n",
        " soma += valor\n",
        " contador += 1\n",
        " media = soma / numero\n",
        "\n",
        "print(f\"O valor media é {media}\")\n",
        ""
      ],
      "metadata": {
        "colab": {
          "base_uri": "https://localhost:8080/"
        },
        "id": "2Mk3v5ktPPvG",
        "outputId": "737f1600-72ba-443b-929f-0668b6a531f1"
      },
      "execution_count": 10,
      "outputs": [
        {
          "output_type": "stream",
          "name": "stdout",
          "text": [
            "Digite um numero: 7\n",
            "Digite o outro valor: 7\n",
            "Digite o outro valor: 7\n",
            "Digite o outro valor: 7\n",
            "Digite o outro valor: 7\n",
            "Digite o outro valor: 7\n",
            "Digite o outro valor: 7\n",
            "Digite o outro valor: 7\n",
            "O valor media é 7.0\n"
          ]
        }
      ]
    },
    {
      "cell_type": "code",
      "source": [
        "soma= 0\n",
        "\n",
        "numero= int(input(\"Digite numero: \"))\n",
        "while numero != 0:\n",
        " soma += numero\n",
        " numero= int(input(\"Digite numero: \"))\n",
        "\n",
        "print(f\"O maior valor é {soma}\")\n"
      ],
      "metadata": {
        "colab": {
          "base_uri": "https://localhost:8080/"
        },
        "id": "BxZR7UtBPSHx",
        "outputId": "d22c6c49-8802-41f6-8bcd-7e857b96aa6c"
      },
      "execution_count": 12,
      "outputs": [
        {
          "output_type": "stream",
          "name": "stdout",
          "text": [
            "Digite numero: 7\n",
            "Digite numero: 7\n",
            "Digite numero: 7\n",
            "Digite numero: 0\n",
            "O maior valor é 21\n"
          ]
        }
      ]
    },
    {
      "cell_type": "code",
      "source": [
        "maiornumero= 0\n",
        "\n",
        "numero= int(input(\"Digite um numero: \"))\n",
        "while numero >= 0:\n",
        "  numero= int(input(\"Digite um numero: \"))\n",
        "  if numero >= maiornumero:\n",
        "     maiornumero = numero\n",
        "\n",
        "print(f\"O maior numero é:{maiornumero}\")"
      ],
      "metadata": {
        "colab": {
          "base_uri": "https://localhost:8080/"
        },
        "id": "155yxSKSPUY9",
        "outputId": "40ba762f-8cf8-485d-f640-b273b92a8a13"
      },
      "execution_count": 14,
      "outputs": [
        {
          "output_type": "stream",
          "name": "stdout",
          "text": [
            "Digite um numero: 7\n",
            "Digite um numero: 7\n",
            "Digite um numero: -7\n",
            "O maior numero é:7\n"
          ]
        }
      ]
    }
  ]
}